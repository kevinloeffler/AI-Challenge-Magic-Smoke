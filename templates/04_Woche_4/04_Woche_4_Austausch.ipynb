{
 "cells": [
  {
   "cell_type": "markdown",
   "id": "b7fc2ad2-e5f0-49e8-8cee-dbdb40f4a3b6",
   "metadata": {},
   "source": [
    "# Ziel am Austausch: Zwei Challenges festlegen, Probleme beheben\n",
    "\n",
    "Datum: 26.11.2022\n",
    "\n",
    "Ort: Online, https://nx.jetracer.ch\n",
    "\n",
    "Zeiten: \n",
    "* 10-12h Challenges festlegen\n",
    "* 12-13h Mittagspause\n",
    "* 13-15h Probleme besprechen und Lösungen finden\n"
   ]
  },
  {
   "cell_type": "markdown",
   "id": "81033a68-4fb1-4161-8a55-e9f1a4c7d414",
   "metadata": {},
   "source": [
    "Aufgaben:\n",
    "\n",
    "1. Eine oder zwei Aufgaben finden, welche ihr denkt, dass ihr die OST schlagen könnt (und auch selber fahren könnt).\n",
    "2. Selbstfahrmodus mal ausprobieren.\n",
    "3. Schaut euch einerseits die Anleitung für Icevision an und das labeling Tool an (siehe info Webseite).\n",
    "\n",
    "Fragen:\n",
    "\n",
    "1. Wie kann man mit Icevision etwas trainieren, und dann nutzen? Das gibt ja keine Steuerungsdaten aus.\n",
    "2. Was für Probleme können damit gelöst werden?\n",
    "3. Überlegt euch eine Anwendung als Challenge für den Abschlussevent mit Objekterkennung\n",
    "    * Bedenkt dabei: wie kommen die Daten zusammen (Bilder)?\n",
    "4. Überlegt eine Challenge mit den bisherigen Tools (also Linien/blaues Band)\n"
   ]
  },
  {
   "cell_type": "markdown",
   "id": "13ceb2ff",
   "metadata": {},
   "source": []
  }
 ],
 "metadata": {
  "kernelspec": {
   "display_name": "Python 3.10.6 64-bit",
   "language": "python",
   "name": "python3"
  },
  "language_info": {
   "codemirror_mode": {
    "name": "ipython",
    "version": 3
   },
   "file_extension": ".py",
   "mimetype": "text/x-python",
   "name": "python",
   "nbconvert_exporter": "python",
   "pygments_lexer": "ipython3",
   "version": "3.10.6"
  },
  "vscode": {
   "interpreter": {
    "hash": "e7370f93d1d0cde622a1f8e1c04877d8463912d04d973331ad4851f04de6915a"
   }
  }
 },
 "nbformat": 4,
 "nbformat_minor": 5
}
