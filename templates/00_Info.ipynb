{
 "cells": [
  {
   "cell_type": "markdown",
   "id": "581434d2-fc2c-4232-9870-e4b85d0e00b7",
   "metadata": {},
   "source": [
    "# Übersicht"
   ]
  },
  {
   "cell_type": "markdown",
   "id": "d217de89-ef56-4808-a95d-9edfa13e7b5f",
   "metadata": {},
   "source": [
    "**Wichtige Links**\n",
    "\n",
    "* Genereller Einstieg: [jetracer.ch](https://jetracer.ch)\n",
    "* Daten- und Austauschplattform: [nx.jetracer.ch](https://nx.jetracer.ch/)\n",
    "* Label-Tool: [label.jetracer.ch](https://label.jetracer.ch) (hier braucht ihr einen separaten Login!)\n",
    "* Trainier- und Aufgaben-Umgebung (GPU-Cluster): [jupyter.jetracer.ch](https://jupyter.jetracer.ch)"
   ]
  },
  {
   "cell_type": "markdown",
   "id": "bc8a11eb-31bb-4593-8a80-09c838e0b1ed",
   "metadata": {},
   "source": [
    "## Jupyter Notebook benutzen\n",
    "\n",
    "Es gibt eine gute Zusammenfassung von einer Uni in Deutschland: [https://energie.labs.fhv.at/~kr/python/Juypter_Notebooks.html](https://energie.labs.fhv.at/~kr/python/Juypter_Notebooks.html)\n",
    "oder auch ein Youtube-Video, welches aber etwas über die Basics hinaus geht: [https://www.youtube.com/watch?v=1S4Cgtkxqhs](https://www.youtube.com/watch?v=1S4Cgtkxqhs)"
   ]
  },
  {
   "cell_type": "markdown",
   "id": "e950a180-6264-4dc2-a596-dd01e11dba64",
   "metadata": {},
   "source": [
    "**Hinweis**:\n",
    "\n",
    "Die Informationen und Zugänge zu den Aufgaben der entsprechenden Woche werden jeweils im Verlauf vom Montag für die nächste Woche freigeschaltet. Es gibt für diejenigen, welche etwas mehr machen möchten und können weiterführende Infos am Ende der jeweiligen Aufgaben.\n",
    "\n",
    "Ziel ist, dass auch mit wenig Aufwand (ca. 2h/Woche ausserhalb Kickoff, Erfahrungsaustausch und Abschluss-Event) viel gelernt und am Abschlussevent teilgenommen werden kann."
   ]
  },
  {
   "cell_type": "markdown",
   "id": "5fa0cf60-417d-476d-9fba-3eda21fa0d47",
   "metadata": {},
   "source": [
    "## Genereller Zeitplan\n",
    "\n",
    "* [Kickoff](./00_Kickoff/00_Kickoff_Intro.ipynb) (22.10.):\n",
    "    - Kennen lernen\n",
    "    - Geräte in Betrieb nehmen\n",
    "    - Tools kennen lernen\n",
    "    - Zusatzinfos + Fragen: Was ist der generelle Ablauf für ein \"echtes\" Projekt in der freien Wildbahn? [00_Kickoff_Zusatzinfo_Ablauf](./00_Kickoff/00_Kickoff_Zusatzinfo_Ablauf.ipynb)\n",
    "* [Woche 1](./01_Woche_1/01_Woche_1_Videos.ipynb) (bis 29.10.):\n",
    "    - Fokus: Videos Aufnehmen\n",
    "    - Zusatzinfos + Fragen: Daten, die Grundlagen jeder K.I. [01_Woche_1_Zusatzinfo_Daten](./01_Woche_1/01_Woche_1_Zusatzinfo_Daten.ipynb)\n",
    "* [Woche 2](./02_Woche_2/02_Woche_2_Labeln.ipynb) (bis 5.11):\n",
    "    - Fokus Videos schneiden und \"labeln\"\n",
    "    - Zusatzinfos + Fragen: Wie lernt eine K.I.? [02_Woche_2_Zusatzinfo_KI_Lernen](./02_Woche_2/02_Woche_2_Zusatzinfo_KI_Lernen.ipynb)\n",
    "* [Woche 3](./03_Woche_3/03_Woche_3_AI_Training.ipynb) (bis 12.11.):\n",
    "    - Fokus Training Modell\n",
    "    - erste Fahrten mit selbstfahrender AI\n",
    "    - Zusatzinfos + Fragen: Regression und K.I. [03_Woche_3_Zusatzinfo_Regression](./03_Woche_3/03_Woche_3_Zusatzinfo_Regression.ipynb)\n",
    "* [Woche 4](./04_Woche_4/04_Woche_4_Austausch.ipynb) (am 19.11., 10-12 und 13-15, Online):\n",
    "    - Austausch, keine Aufgaben. \n",
    "    - Link zum Meeting kommt noch, wird über BigBlueButton via [nx.jetracer.ch](https://nx.jetracer.ch) stattfinden (Chat funktion beachten)\n",
    "    - Zusatzinfos + Fragen: Keine, da Austausch\n",
    "* [Woche 5](./05_Woche_5/05_Woche_5_Optimierungen.ipynb) (26.11.):\n",
    "    - Fokus Testdrive und erste Optimierung\n",
    "    - Zusatzinfos + Fragen: Probleme und Herausforderungen in der K.I. [05_Woche_5_Zusatzinfo_Probleme_bei_KI](./05_Woche_5/05_Woche_5_Zusatzinfo_Probleme_bei_KI.ipynb)\n",
    "* [Woche 6](./06_Woche_6/06_Woche_6_Challenges_Part_1.ipynb) (3.12.):\n",
    "    - Trainings für Challenge 1+2\n",
    "    - Zusatzinfos + Fragen: Wo/wie könnte ich mit meinem eigenen Projekt starten? [06_Woche_6_Zusatzinfo_eigenes_Projekt](./06_Woche_6/06_Woche_6_Zusatzinfo_eigenes_Projekt.ipynb)\n",
    "* [Woche 7](./07_Woche_7/07_Woche_7_Challenges_Part_2.ipynb) (10.12.):\n",
    "    - Trainings für Challenge 3+4\n",
    "    - Zusatzinfos + Fragen: Weiterführende Links und Infos (englische Seiten) [07_Woche_7_Zusatzinfo_Ausblick](./07_Woche_7/07_Woche_7_Zusatzinfo_Ausblick.ipynb)\n",
    "* [Woche 8](./08_Woche_8/08_Woche_8_Ablschluss_Race.ipynb) (17.12.):\n",
    "    - Challenge an OST\n",
    "    - Zusatzinfos: Keine, es ist Abschluss. Viel Erfolg!"
   ]
  },
  {
   "cell_type": "code",
   "execution_count": null,
   "id": "3f767af8-5db0-4f79-968c-cfd190a54177",
   "metadata": {},
   "outputs": [],
   "source": []
  }
 ],
 "metadata": {
  "kernelspec": {
   "display_name": "Python 3",
   "language": "python",
   "name": "python3"
  },
  "language_info": {
   "codemirror_mode": {
    "name": "ipython",
    "version": 3
   },
   "file_extension": ".py",
   "mimetype": "text/x-python",
   "name": "python",
   "nbconvert_exporter": "python",
   "pygments_lexer": "ipython3",
   "version": "3.9.13"
  },
  "vscode": {
   "interpreter": {
    "hash": "e7370f93d1d0cde622a1f8e1c04877d8463912d04d973331ad4851f04de6915a"
   }
  }
 },
 "nbformat": 4,
 "nbformat_minor": 5
}
