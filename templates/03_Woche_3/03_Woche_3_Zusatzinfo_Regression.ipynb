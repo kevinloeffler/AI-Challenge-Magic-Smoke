{
 "cells": [
  {
   "cell_type": "markdown",
   "id": "5f796887-c3bf-4dff-875d-4ad0e346376a",
   "metadata": {},
   "source": [
    "# Regression und Bilder"
   ]
  },
  {
   "cell_type": "markdown",
   "id": "b59287ec-4abe-4883-881d-26b59f63abfa",
   "metadata": {},
   "source": [
    "## Was ist Regression?\n",
    "\n",
    "Sieh dir folgendes Video an und finde den Zusammenhang mit der Steuerung und dem Gas-Input mit den Bildern."
   ]
  },
  {
   "cell_type": "code",
   "execution_count": 2,
   "id": "990240b5-0d68-4e4f-a151-53a5c34da938",
   "metadata": {},
   "outputs": [
    {
     "data": {
      "text/html": [
       "\n",
       "        <iframe\n",
       "            width=\"640\"\n",
       "            height=\"360\"\n",
       "            src=\"https://www.youtube.com/embed/WZKMzjfJ-x4?rel=0&amp;controls=0&amp;showinfo=0\"\n",
       "            frameborder=\"0\"\n",
       "            allowfullscreen\n",
       "            \n",
       "        ></iframe>\n",
       "        "
      ],
      "text/plain": [
       "<IPython.lib.display.IFrame at 0x7f8670822770>"
      ]
     },
     "execution_count": 2,
     "metadata": {},
     "output_type": "execute_result"
    }
   ],
   "source": [
    "from IPython.display import IFrame\n",
    "IFrame('https://www.youtube.com/embed/WZKMzjfJ-x4?rel=0&amp;controls=0&amp;showinfo=0', width=640, height=360)"
   ]
  },
  {
   "cell_type": "markdown",
   "id": "e30d5cc5-9451-41eb-8a1b-7f71a8ab1e0e",
   "metadata": {},
   "source": [
    "## Regression und neuronale Netze\n",
    "\n",
    "Typischerweise sind Bilder nicht für regression verwendet.\n",
    "\n",
    "Kannst du mit Hilfe von https://docs.fast.ai/ und https://github.com/fastai/fastbook hrausfinden, warum das \"trotzdem\" geht?"
   ]
  },
  {
   "cell_type": "markdown",
   "id": "5f7a1b29-e957-4069-8ab4-5feefe7ca2f5",
   "metadata": {},
   "source": [
    "## Nachgeschaltete Netze\n",
    "\n",
    "Neben Regression mit Bilder gibt es eine weitere Option: Nachgeschaltete Netze, wo der Output eines Netzes den Input des anderen bildet.\n",
    "\n",
    "Wir werden dies noch anschauen, wie man das mit einer spezifischen Technik nutzen kann, als erste Stufe wird es Recognition brauchen, was man auch Image Segmentation \"nennt\". Du findest dazu hier einige Infos als Vorbereitung für später:\n",
    "\n",
    "https://github.com/fastai/fastbook/blob/master/01_intro.ipynb (Nur einen Abschnitt dazu, aber das reicht für diesmal :-) )"
   ]
  },
  {
   "cell_type": "code",
   "execution_count": null,
   "id": "72051f2b-f03d-4ee8-b13a-ea4c5e7e2379",
   "metadata": {},
   "outputs": [],
   "source": []
  }
 ],
 "metadata": {
  "kernelspec": {
   "display_name": "Python 3 (ipykernel)",
   "language": "python",
   "name": "python3"
  },
  "language_info": {
   "codemirror_mode": {
    "name": "ipython",
    "version": 3
   },
   "file_extension": ".py",
   "mimetype": "text/x-python",
   "name": "python",
   "nbconvert_exporter": "python",
   "pygments_lexer": "ipython3",
   "version": "3.10.5"
  }
 },
 "nbformat": 4,
 "nbformat_minor": 5
}
