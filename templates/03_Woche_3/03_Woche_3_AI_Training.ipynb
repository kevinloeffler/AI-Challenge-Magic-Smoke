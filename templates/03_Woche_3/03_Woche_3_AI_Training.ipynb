{
 "cells": [
  {
   "cell_type": "markdown",
   "id": "b7fc2ad2-e5f0-49e8-8cee-dbdb40f4a3b6",
   "metadata": {},
   "source": [
    "# Ziel: Bilder trainieren, Teil 2\n",
    "\n",
    "*mit \"sinnvollen\" Parametern und verschiedenen Netzen/eigene Netze*\n",
    "\n",
    "**Wichtig**: Die sogenannte Lernrate, auch mit $\\alpha$ bezeichnet, muss positiv, aber kleiner als 1 sein (also ein Float/Bruchwert, z.B. 0.00002). Warum? Weil sonst der Step um die Kostenfunktion herum nicht hinunter findet. Siehe Erklärungen zB hier: [Stepping With a Learning Rate](https://github.com/fastai/fastbook/blob/master/04_mnist_basics.ipynb#Stepping-With-a-Learning-Rate) (genauer: Stepping With a Learning Rate). Es lohnt sich, dieses ganze Kapitel zu lesen (eigentlich das ganze Buch, wenn jemand die Zeit aufbringen kann).\n"
   ]
  },
  {
   "cell_type": "markdown",
   "id": "81033a68-4fb1-4161-8a55-e9f1a4c7d414",
   "metadata": {},
   "source": [
    "Benötigter Aufwand: ca. 2h"
   ]
  },
  {
   "cell_type": "markdown",
   "id": "af0e3a7b-b64d-4051-b13e-530ad76e377a",
   "metadata": {},
   "source": [
    "Benötigtes Material:\n",
    "\n",
    "* Daten\n",
    "* Jupyter NB mit GPU Support"
   ]
  },
  {
   "cell_type": "markdown",
   "id": "e74dd05c-b811-49cb-bd56-8fb5b2732ecd",
   "metadata": {},
   "source": [
    "Ablauf (Siehe auch vergangenes Notebook und allgemeiner Trainigsablauf):\n",
    "\n",
    "1. Daten einspeisen\n",
    "2. Trainig starten\n",
    "3. Interpretieren der Resultate"
   ]
  },
  {
   "cell_type": "markdown",
   "id": "d5f4f192-7333-4cf6-b252-884de728b6ac",
   "metadata": {},
   "source": [
    "## Hilfestellung"
   ]
  },
  {
   "cell_type": "markdown",
   "id": "4a639150-8368-4779-9a00-929b589fe3ff",
   "metadata": {},
   "source": [
    "Alle möglichen Netze anzeigen"
   ]
  },
  {
   "cell_type": "code",
   "execution_count": null,
   "id": "702eee79-eb8b-4b02-bc09-e6b4322789a5",
   "metadata": {},
   "outputs": [],
   "source": [
    "import torchvision.models as torch_models\n",
    "\n",
    "[m for m in dir(torch_models) if m.lower() == m and not m.startswith('_')]"
   ]
  },
  {
   "cell_type": "markdown",
   "id": "de037366-fcac-4ee4-a518-b8b097d14519",
   "metadata": {},
   "source": [
    "Von diesen sind nicht alle gleich nützlich.\n",
    "\n",
    "Um zu starten, probiere es mal mit:\n",
    "\n",
    "* resnet18\n",
    "* mobilenet_v3_small\n",
    "* mobilenet_v3_large\n",
    "* mobilenetv3\n",
    "* alexnet\n",
    "\n",
    "Schaue auf drei Sachen:\n",
    "\n",
    "* Geschwindigkeit des Durchlaufs (Abrechen und weniger Bilder wählen, wenn es zu lange dauert)\n",
    "* Alpha-Werte\n",
    "* Wie lange dauert es, bis die Werte \"Sinnvoll\" werden\n",
    "\n",
    "Welche Kombination gibt einen guten Wert in `valid_loss`? Alles über 1 ist unbrauchbar ;-)"
   ]
  },
  {
   "cell_type": "markdown",
   "id": "7f92e200-7a81-4313-9039-c58206d7a3fa",
   "metadata": {},
   "source": [
    "Beispiel:\n",
    "\n",
    "```python\n",
    "# ... dein dataloader, siehe vegangene Wochen\n",
    "learn = vision_learner(data_loaders, torch_models.alexnet)\n",
    "learn.lr_find()\n",
    "# Output: SuggestedLRs(valley=0.0020892962347716093)\n",
    "lr = 0.002\n",
    "learn.fine_tune(25, lr)\n",
    "```"
   ]
  },
  {
   "cell_type": "markdown",
   "id": "c13763b8-1096-4a3d-b194-1a550a32b36a",
   "metadata": {},
   "source": [
    "**Hilfsfragen**\n",
    "\n",
    "* Was macht fine_tune?\n",
    "* Was ist der Sinn von der zahl `25`?\n",
    "* Wo bestimme ich die batch-size?\n",
    "* Was ist die Batch-Size?\n",
    "\n",
    "Hinweise dazu findest du in der Dokumentation von [https://docs.fast.ai/](https://docs.fast.ai/) und dem obigen Link."
   ]
  },
  {
   "cell_type": "code",
   "execution_count": null,
   "id": "345cf077-bd5b-4f45-8d60-f20284239e1d",
   "metadata": {},
   "outputs": [],
   "source": []
  }
 ],
 "metadata": {
  "kernelspec": {
   "display_name": "Python 3 (ipykernel)",
   "language": "python",
   "name": "python3"
  },
  "language_info": {
   "codemirror_mode": {
    "name": "ipython",
    "version": 3
   },
   "file_extension": ".py",
   "mimetype": "text/x-python",
   "name": "python",
   "nbconvert_exporter": "python",
   "pygments_lexer": "ipython3",
   "version": "3.10.5"
  }
 },
 "nbformat": 4,
 "nbformat_minor": 5
}
