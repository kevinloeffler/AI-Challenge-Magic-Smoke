{
 "cells": [
  {
   "cell_type": "markdown",
   "id": "82d3e06a-b63d-428b-b076-dd1e4a518fc8",
   "metadata": {},
   "source": [
    "# Weiterführende Links\n",
    "\n",
    "Wir verwenden die fastai-Library. Für alle Interressierte gibt es den umfangreichen Kurs gratis (englisch).\n",
    "\n",
    "Einstieg über die Seite: https://fast.ai."
   ]
  },
  {
   "cell_type": "code",
   "execution_count": null,
   "id": "cc19c041-288b-4c12-8694-fabd94e55cff",
   "metadata": {},
   "outputs": [],
   "source": []
  }
 ],
 "metadata": {
  "kernelspec": {
   "display_name": "Python 3 (ipykernel)",
   "language": "python",
   "name": "python3"
  },
  "language_info": {
   "codemirror_mode": {
    "name": "ipython",
    "version": 3
   },
   "file_extension": ".py",
   "mimetype": "text/x-python",
   "name": "python",
   "nbconvert_exporter": "python",
   "pygments_lexer": "ipython3",
   "version": "3.10.5"
  }
 },
 "nbformat": 4,
 "nbformat_minor": 5
}
