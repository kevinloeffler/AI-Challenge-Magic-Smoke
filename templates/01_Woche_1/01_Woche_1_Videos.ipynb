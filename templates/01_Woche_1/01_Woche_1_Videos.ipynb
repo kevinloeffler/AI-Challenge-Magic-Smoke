{
 "cells": [
  {
   "cell_type": "markdown",
   "id": "b7fc2ad2-e5f0-49e8-8cee-dbdb40f4a3b6",
   "metadata": {},
   "source": [
    "# Ziel: Videos Aufnehmen"
   ]
  },
  {
   "cell_type": "markdown",
   "id": "81033a68-4fb1-4161-8a55-e9f1a4c7d414",
   "metadata": {},
   "source": [
    "Benötigter Aufwand: ca. 2h"
   ]
  },
  {
   "cell_type": "markdown",
   "id": "af0e3a7b-b64d-4051-b13e-530ad76e377a",
   "metadata": {},
   "source": [
    "Benötigtes Material:\n",
    "\n",
    "* blaues Klebeband\n",
    "* Fahrzeug\n",
    "* Fernsteuerung\n",
    "* geladene Batterien"
   ]
  },
  {
   "cell_type": "markdown",
   "id": "4606cfc0-441e-4bb0-b0b8-25faab2d8e8c",
   "metadata": {},
   "source": [
    "Ablauf:\n",
    "\n",
    "1. mit Klebeband auf möglichst Ebener Strecke eine Rund-Bahn kleben\n",
    "1. Raspberry Verbidung prüfen\n",
    "1. Ein paar Runden fahren, möglichst \"schön\" fahren\n",
    "1. Aufnahmen machen\n",
    "1. Aufnahmen herunterladen\n",
    "1. Aufnahmen auf [nx.jetracer.ch](https://nx.jetracer.ch/) hochladen\n",
    "1. Aufnahmen auf dem Raspberry löschen"
   ]
  },
  {
   "cell_type": "code",
   "execution_count": null,
   "id": "0918430e-dd5b-4570-82ef-ca083a655fd9",
   "metadata": {},
   "outputs": [],
   "source": []
  },
  {
   "cell_type": "code",
   "execution_count": null,
   "id": "e81018e0-430a-4b0f-872d-0d139c0a29c0",
   "metadata": {},
   "outputs": [],
   "source": []
  },
  {
   "cell_type": "code",
   "execution_count": null,
   "id": "46fe2225-09fa-417f-baf1-abb26d5e7bdc",
   "metadata": {},
   "outputs": [],
   "source": []
  },
  {
   "cell_type": "markdown",
   "id": "af57701b-fb39-4da0-82f3-b97abdc8c8a5",
   "metadata": {},
   "source": []
  },
  {
   "cell_type": "markdown",
   "id": "bb3aaee1-8f8b-46ea-922d-c3cdb3e9897f",
   "metadata": {},
   "source": []
  }
 ],
 "metadata": {
  "kernelspec": {
   "display_name": "Python 3 (ipykernel)",
   "language": "python",
   "name": "python3"
  },
  "language_info": {
   "codemirror_mode": {
    "name": "ipython",
    "version": 3
   },
   "file_extension": ".py",
   "mimetype": "text/x-python",
   "name": "python",
   "nbconvert_exporter": "python",
   "pygments_lexer": "ipython3",
   "version": "3.10.5"
  }
 },
 "nbformat": 4,
 "nbformat_minor": 5
}
