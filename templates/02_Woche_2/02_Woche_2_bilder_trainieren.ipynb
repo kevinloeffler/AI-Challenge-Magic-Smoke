{
 "cells": [
  {
   "cell_type": "markdown",
   "id": "31755042-9e30-4d5f-80f0-affac26ce24b",
   "metadata": {},
   "source": [
    "# Ziel: Bilder trainieren"
   ]
  },
  {
   "cell_type": "markdown",
   "id": "4580df34-7468-4836-8643-c25f1cc4d06c",
   "metadata": {},
   "source": [
    "Ungefähr Benötigter Aufwand: ca. 2h"
   ]
  },
  {
   "cell_type": "markdown",
   "id": "968d534f-f2ea-4be0-9cd9-d7849d984347",
   "metadata": {},
   "source": [
    "**WICHTIG**: Es hatte noch einige Bugs auf dem Fahrzeug, die behoben wurden. Folge der Anleitung fürs neu Aufsetzen (du brauchst eine Internet Verbindung), siehe [http://ifs.pages.gitlab.ost.ch/ai-challenge/info/faq.html#wenn-das-alles-nützt-nichts](http://ifs.pages.gitlab.ost.ch/ai-challenge/info/faq.html#wenn-das-alles-n%C3%BCtzt-nichts)\n",
    "\n",
    "Das Update dauert einen Moment. Stecke zur Sicherheit das USB Ladekabel statt der Powerbank in dein Raspberry (und stelle die Batterie ab).\n",
    "\n",
    "Hier nochmals die Befehle aus dem obigen Link:\n",
    "```bash\n",
    "sudo wget -O /home/pi/update_raspi.sh https://gitlab.com/ifsoftware/ai-challenge/ai-challenge/-/raw/main/vehicle/vehicle-setup/update_raspi.sh\n",
    "sudo chmod +x /home/pi/update_raspi.sh\n",
    "# Falls du ein LAN Kabel hast, kannst du das einstecken, dann geht es etwas schneller\n",
    "# dann musst du noch folgenden Befehl (ohne `#` ausführen)\n",
    "#sudo dhclient eth0\n",
    "# dann rebootet er automatisch, nachher wieder einloggen, und wenn nicht alles läuft:\n",
    "sudo ./update_raspi.sh\n",
    "```"
   ]
  },
  {
   "cell_type": "markdown",
   "id": "81033a68-4fb1-4161-8a55-e9f1a4c7d414",
   "metadata": {},
   "source": [
    "## Aufnehmen\n",
    "\n",
    "**Nach** dem Update (siehe oben), fahre eine Strecke und nimm diese auf. Achte auf folgendes:\n",
    "\n",
    "* Möglichst Konstante (langsame) Geschwindigkeit\n",
    "* gute Lichtverhältnisse\n",
    "* einfache Fahrstrecke, die möglichst mehrfach konsistent gefahren werden kann\n",
    "* Auch ein normales Malerklebeband sollte reichen für diese Aufnahmen"
   ]
  },
  {
   "cell_type": "markdown",
   "id": "9049f3e4-49db-4ab4-b52a-15da751e38cd",
   "metadata": {},
   "source": [
    "## Trainieren\n",
    "\n",
    "Schaue im [02_training](../02_training.ipynb) nach, wie das Training abläuft. Du kannst auch das Notebook weitervewenden und nach deinem Gusto anpassen, anstelle von Code kopieren.\n",
    "\n"
   ]
  },
  {
   "cell_type": "markdown",
   "id": "7a5ace4e-8ff8-4af1-a48c-3d3dee794ea2",
   "metadata": {},
   "source": [
    "Hilfestellung/Frage zum Weiterkommen:\n",
    "\n",
    "- Was für Netze sind für Bilde gut geeignet? Als Hilfe schaue zum Beispiel hier: https://pytorch.org/vision/0.8/models.html\n",
    "    - warum verwenden wir Vision Modelle obschon es ein Regressionsproblem ist?\n",
    "    - Probleme beim Netz finden? Probiere verschiedene mal aus, zb resnet, und finde von da weitere. Siehe unten für eine Auflistung von Netzen\n",
    "- Was ist die optimale Lernrate? siehe auch https://docs.fast.ai/ oder https://github.com/fastai/fastbook\n",
    "- Was ist der lr_finder? siehe https://docs.fast.ai/\n",
    "- was ist eine gute Lernrate? siehe https://docs.fast.ai/\n",
    "- Nebst der Lernrate ist die Loss-Funktion ausschlaggebend. Warum ist hier `nn.MSELoss` die richtige? (Falls die noch anders in deinem Training-Notebook steht, korrigier das!)\n",
    "- Was ist eine akzeptable Loss-Rate?\n",
    "\n",
    "Siehe auch hier: https://github.com/fastai/fastbook (konkret geht es um Regression, die ist dort auch vermerkt) oder direktlink zu ausführbarem Notebook: https://colab.research.google.com/github/fastai/fastbook/blob/master/06_multicat.ipynb"
   ]
  },
  {
   "cell_type": "code",
   "execution_count": null,
   "id": "6b9abcdd-c03a-439c-b071-0a2f511b7802",
   "metadata": {},
   "outputs": [],
   "source": [
    "# So können alle verfügbaren Netze ausgegeben werden\n",
    "\n",
    "import torchvision.models as torch_models\n",
    "\n",
    "[m for m in dir(torch_models) if m.lower() == m and not m.startswith('_')]"
   ]
  },
  {
   "cell_type": "code",
   "execution_count": null,
   "id": "0918430e-dd5b-4570-82ef-ca083a655fd9",
   "metadata": {},
   "outputs": [],
   "source": []
  }
 ],
 "metadata": {
  "kernelspec": {
   "display_name": "Python 3 (ipykernel)",
   "language": "python",
   "name": "python3"
  },
  "language_info": {
   "codemirror_mode": {
    "name": "ipython",
    "version": 3
   },
   "file_extension": ".py",
   "mimetype": "text/x-python",
   "name": "python",
   "nbconvert_exporter": "python",
   "pygments_lexer": "ipython3",
   "version": "3.10.5"
  }
 },
 "nbformat": 4,
 "nbformat_minor": 5
}
