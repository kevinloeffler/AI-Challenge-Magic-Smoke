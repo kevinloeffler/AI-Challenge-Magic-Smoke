{
 "cells": [
  {
   "cell_type": "markdown",
   "id": "987b97fe-b53d-40a3-9984-a407f8068975",
   "metadata": {},
   "source": [
    "# Zusatzinfos\n",
    "\n",
    "Wir haben als Zusatzinfos einfach mal zwei Videos, welche die Funktionalität von AI etwas verständlich machen sollen."
   ]
  },
  {
   "cell_type": "code",
   "execution_count": 3,
   "id": "0c6c258f-383a-4b8d-9ee4-207b51f204fb",
   "metadata": {},
   "outputs": [
    {
     "data": {
      "text/html": [
       "\n",
       "        <iframe\n",
       "            width=\"640\"\n",
       "            height=\"360\"\n",
       "            src=\"https://www.youtube.com/embed/cxCzhFVyUdw?rel=0&amp;controls=0&amp;showinfo=0\"\n",
       "            frameborder=\"0\"\n",
       "            allowfullscreen\n",
       "            \n",
       "        ></iframe>\n",
       "        "
      ],
      "text/plain": [
       "<IPython.lib.display.IFrame at 0x7fed20161090>"
      ]
     },
     "execution_count": 3,
     "metadata": {},
     "output_type": "execute_result"
    }
   ],
   "source": [
    "from IPython.display import IFrame\n",
    "IFrame('https://www.youtube.com/embed/cxCzhFVyUdw?rel=0&amp;controls=0&amp;showinfo=0', width=640, height=360)"
   ]
  },
  {
   "cell_type": "code",
   "execution_count": 4,
   "id": "1414ca05-ed03-4cb5-8101-bf1400b86b11",
   "metadata": {},
   "outputs": [
    {
     "data": {
      "text/html": [
       "\n",
       "        <iframe\n",
       "            width=\"640\"\n",
       "            height=\"360\"\n",
       "            src=\"https://www.youtube.com/embed/3RsmRMqX2IY?rel=0&amp;controls=0&amp;showinfo=0\"\n",
       "            frameborder=\"0\"\n",
       "            allowfullscreen\n",
       "            \n",
       "        ></iframe>\n",
       "        "
      ],
      "text/plain": [
       "<IPython.lib.display.IFrame at 0x7fed20160a60>"
      ]
     },
     "execution_count": 4,
     "metadata": {},
     "output_type": "execute_result"
    }
   ],
   "source": [
    "IFrame('https://www.youtube.com/embed/3RsmRMqX2IY?rel=0&amp;controls=0&amp;showinfo=0', width=640, height=360)"
   ]
  },
  {
   "cell_type": "code",
   "execution_count": null,
   "id": "17227431-90f8-4935-922b-7aeb0523216f",
   "metadata": {},
   "outputs": [],
   "source": []
  }
 ],
 "metadata": {
  "kernelspec": {
   "display_name": "Python 3 (ipykernel)",
   "language": "python",
   "name": "python3"
  },
  "language_info": {
   "codemirror_mode": {
    "name": "ipython",
    "version": 3
   },
   "file_extension": ".py",
   "mimetype": "text/x-python",
   "name": "python",
   "nbconvert_exporter": "python",
   "pygments_lexer": "ipython3",
   "version": "3.10.5"
  }
 },
 "nbformat": 4,
 "nbformat_minor": 5
}
