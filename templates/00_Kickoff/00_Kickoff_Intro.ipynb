{
 "cells": [
  {
   "cell_type": "markdown",
   "id": "f126ef25-6172-4cf0-86db-ce87deb76f0b",
   "metadata": {},
   "source": [
    "# Kickoff"
   ]
  },
  {
   "cell_type": "markdown",
   "id": "039a40ed-476b-46bd-9436-980c5b420889",
   "metadata": {},
   "source": [
    "Ziele für heute:\n",
    "\n",
    "* Autos übernehmen\n",
    "* Ablauf durchgehen\n",
    "* Coaches Kennenlernen\n",
    "* Logins erstellen\n",
    "* Parat für \"Homework\"\n",
    "* Fragen klären\n",
    "* Spass haben"
   ]
  },
  {
   "cell_type": "markdown",
   "id": "bbfcef0f-89a2-4e79-b97f-25d60442da95",
   "metadata": {},
   "source": []
  }
 ],
 "metadata": {
  "kernelspec": {
   "display_name": "Python 3 (ipykernel)",
   "language": "python",
   "name": "python3"
  },
  "language_info": {
   "codemirror_mode": {
    "name": "ipython",
    "version": 3
   },
   "file_extension": ".py",
   "mimetype": "text/x-python",
   "name": "python",
   "nbconvert_exporter": "python",
   "pygments_lexer": "ipython3",
   "version": "3.10.5"
  }
 },
 "nbformat": 4,
 "nbformat_minor": 5
}
