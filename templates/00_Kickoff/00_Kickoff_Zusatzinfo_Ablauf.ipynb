{
 "cells": [
  {
   "cell_type": "markdown",
   "id": "7bf836cb-68f7-43ee-9991-a379d162777a",
   "metadata": {},
   "source": [
    "### Zusatzinfo: Ablauf, Voraussetzungen und Ziele beim AI-Training"
   ]
  },
  {
   "cell_type": "markdown",
   "id": "06390f16-05d6-49f0-a0b4-473f3d7eb5e8",
   "metadata": {},
   "source": [
    "![](https://upload.wikimedia.org/wikipedia/commons/thumb/b/b9/CRISP-DM_Process_Diagram.png/598px-CRISP-DM_Process_Diagram.png?20130301191038)\n",
    "Quelle: Kenneth Jensen, CC BY-SA 3.0 <https://creativecommons.org/licenses/by-sa/3.0>, via Wikimedia Commons"
   ]
  },
  {
   "cell_type": "markdown",
   "id": "936741b6-3cf0-436b-a966-39333486d9ef",
   "metadata": {},
   "source": [
    "Wenn wir uns als Ziel setzen, eine AI zu trainieren*, dann machen wir das üblicherweise nach folgenden Schritten\n",
    "\n",
    "0. Ziel definieren\n",
    "1. Daten passend zum Ziel finden/generieren/erstellen\n",
    "1. Daten aufbereiten, so dass diese maschinell verarbeitbar sind\n",
    "    * Ein Beispiel dafür ist das \"Labeln\", also Zusatzinformationen hinzufügen\n",
    "1. Modellierung:\n",
    "    1. Einen Teil der Daten zum Training verwenden\n",
    "    1. Einen Teil der Daten zum überprüfen des Resultates vom Training verwenden (kann man das Resultat verwenden oder ist es nur mit den Trainingsdaten gut genug)\n",
    "1. Evaluieren: Testen und prüfen, wie gut das erwartete Resultat erfüllt wird.\n",
    "1. Wiederholen bis ein vernünftiges Resultat vorhanden ist oder man aufgeben muss, weil ein anderer Ansatz verwendet werden muss\n",
    "1. Produktiv machen des Resultats: \"Deployment\"\n",
    "\n",
    "\n",
    "\\*: Dieser Ablauf ist generisch genug, dass er nicht nur auf AI, sondern auf die meisten sogenannten Data-Science-Abläufe passt. AI kann man als einen Unterteil von Data-Science verstehen."
   ]
  },
  {
   "cell_type": "markdown",
   "id": "5433c584-6c25-4507-9283-90af571fb600",
   "metadata": {},
   "source": [
    "## Fragen"
   ]
  },
  {
   "cell_type": "markdown",
   "id": "25be40ff-eade-49f6-abf9-f83b10c5a8b5",
   "metadata": {},
   "source": [
    "* Welche Schritte entsprechen bei der AI-Challenge welchem Ablauf-Bestandteil?"
   ]
  },
  {
   "cell_type": "markdown",
   "id": "b38c99eb-8b8a-4245-a65a-32141b25ce93",
   "metadata": {},
   "source": [
    "> Antworte hier"
   ]
  },
  {
   "cell_type": "markdown",
   "id": "a9b6140b-d872-4110-92c3-8741a0ff8888",
   "metadata": {},
   "source": [
    "* Welche Abläufe passen nicht eindeutig zu einem Punkt?"
   ]
  },
  {
   "cell_type": "markdown",
   "id": "364a51ef-7f03-495e-b9b1-0e7d9ce4925c",
   "metadata": {},
   "source": []
  },
  {
   "cell_type": "markdown",
   "id": "4a5b2cca-6135-4a54-8641-1472b398685e",
   "metadata": {},
   "source": [
    "> Antworte hier"
   ]
  },
  {
   "cell_type": "code",
   "execution_count": null,
   "id": "f48b887d-cef0-4a7e-b795-622e2eecab0c",
   "metadata": {},
   "outputs": [],
   "source": []
  }
 ],
 "metadata": {
  "kernelspec": {
   "display_name": "Python 3 (ipykernel)",
   "language": "python",
   "name": "python3"
  },
  "language_info": {
   "codemirror_mode": {
    "name": "ipython",
    "version": 3
   },
   "file_extension": ".py",
   "mimetype": "text/x-python",
   "name": "python",
   "nbconvert_exporter": "python",
   "pygments_lexer": "ipython3",
   "version": "3.10.5"
  }
 },
 "nbformat": 4,
 "nbformat_minor": 5
}
