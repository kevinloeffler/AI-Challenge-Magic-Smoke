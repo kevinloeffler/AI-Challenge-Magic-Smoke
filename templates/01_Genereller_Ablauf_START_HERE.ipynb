{
 "cells": [
  {
   "cell_type": "markdown",
   "id": "581434d2-fc2c-4232-9870-e4b85d0e00b7",
   "metadata": {},
   "source": [
    "# Übersicht"
   ]
  },
  {
   "cell_type": "markdown",
   "id": "2857d9fe-63c8-45e3-9874-159c78161d66",
   "metadata": {},
   "source": [
    "**Wichtige Links**\n",
    "\n",
    "* Genereller Einstieg: [jetracer.ch](https://jetracer.ch)\n",
    "* Daten- und Austauschplattform: [nx.jetracer.ch](https://nx.jetracer.ch/)\n",
    "* Label-Tool: [label.jetracer.ch](https://label.jetracer.ch) (hier braucht ihr einen separaten Login!)\n",
    "* Trainier- und Aufgaben-Umgebung (GPU-Cluster): [jupyter.jetracer.ch](https://jupyter.jetracer.ch)"
   ]
  },
  {
   "cell_type": "markdown",
   "id": "7097b866-157a-4bf5-a1b9-1766db62087f",
   "metadata": {},
   "source": [
    "## Jupyter Notebook benutzen\n",
    "\n",
    "Zur Errinnerung: \n",
    "\n",
    "Es gibt eine gute Zusammenfassung von einer Uni in Deutschland: [https://energie.labs.fhv.at/~kr/python/Juypter_Notebooks.html](https://energie.labs.fhv.at/~kr/python/Juypter_Notebooks.html)\n",
    "oder auch ein Youtube-Video, welches aber etwas über die Basics hinaus geht: [https://www.youtube.com/watch?v=1S4Cgtkxqhs](https://www.youtube.com/watch?v=1S4Cgtkxqhs)"
   ]
  },
  {
   "cell_type": "markdown",
   "id": "a2de1710-1379-4a11-8863-3e5c24265b72",
   "metadata": {},
   "source": [
    "**HINWEIS**: Sollte jupyter.jetracer.ch nicht funktionieren, so habt ihr die Option, den Gratis-Dienst \"[colab.research.google.com](https://colab.research.google.com/)\" von Google zu nutzen. Auf der Seite http://ifs.pages.gitlab.ost.ch/ai-challenge/info/ findet ihr diese Infos alle auch (und eine Anleitung, wie die Notebooks auf den neuesten Stand gebracht werden können)."
   ]
  },
  {
   "cell_type": "markdown",
   "id": "e950a180-6264-4dc2-a596-dd01e11dba64",
   "metadata": {},
   "source": [
    "# Genereller Ablauf\n",
    "\n",
    "1. das Fahrzeug muss Videos aufnehmen und die Steuerungsdaten zum Video passend hinzufügen\n",
    "1. Diese Daten müssen vom Raspberry-Pi auf euer Laptop\n",
    "1. **Vorher** Diese Daten müssen wir sondieren und herausfiltern, nicht alle Bilder eignen sich zum Trainieren: Die generierten Daten herunterladen und unbrauchbare löschen, das kann manuell gemacht werden oder hier: [jetracer.ch](https://jetracer.ch/#/cutter)\n",
    "1. Vom Laptop müssen diese ins `/home/jovyan/work/data` Verzeichnis (der Befehl auf der nachfolgenden Zelle erstellt dieses Verzeichnis) übertragen werden.\n",
    "1. Dann sind wir soweit, unsere AI zu trainieren: [02_training](./02_training.ipynb)\n",
    "1. Sobald dieses durch ist, dieses benennen und auf den Laptop laden."
   ]
  },
  {
   "cell_type": "code",
   "execution_count": null,
   "id": "3f767af8-5db0-4f79-968c-cfd190a54177",
   "metadata": {},
   "outputs": [],
   "source": [
    "# erstellen des Datenverzeichnisses\n",
    "!mkdir -p /home/jovyan/work/data"
   ]
  },
  {
   "cell_type": "code",
   "execution_count": null,
   "id": "e30c3bd0-9ea2-4c45-a5f8-51b86274f1c5",
   "metadata": {},
   "outputs": [],
   "source": []
  }
 ],
 "metadata": {
  "kernelspec": {
   "display_name": "Python 3 (ipykernel)",
   "language": "python",
   "name": "python3"
  },
  "language_info": {
   "codemirror_mode": {
    "name": "ipython",
    "version": 3
   },
   "file_extension": ".py",
   "mimetype": "text/x-python",
   "name": "python",
   "nbconvert_exporter": "python",
   "pygments_lexer": "ipython3",
   "version": "3.10.5"
  }
 },
 "nbformat": 4,
 "nbformat_minor": 5
}
