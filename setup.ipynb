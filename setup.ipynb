{
 "cells": [
  {
   "cell_type": "markdown",
   "source": [
    "### Readme\n",
    "This Script delets all existing templates in ./templates and replaces them with the up to date version from the official AI-Challenge Git Repo."
   ],
   "metadata": {
    "collapsed": false
   }
  },
  {
   "cell_type": "code",
   "execution_count": 19,
   "metadata": {
    "collapsed": true
   },
   "outputs": [
    {
     "name": "stdout",
     "output_type": "stream",
     "text": [
      "Cloning into './temp'...\r\n",
      "remote: Enumerating objects: 76, done.\u001B[K\r\n",
      "remote: Counting objects: 100% (76/76), done.\u001B[K\r\n",
      "remote: Compressing objects: 100% (55/55), done.\u001B[K\r\n",
      "remote: Total 76 (delta 19), reused 76 (delta 19), pack-reused 0\u001B[K\r\n",
      "Unpacking objects: 100% (76/76), done.\r\n"
     ]
    }
   ],
   "source": [
    "!rm -rf ./templates/*\n",
    "!git clone https://gitlab.ost.ch/ifs/ai-challenge/published_notebooks.git ./temp\n",
    "!cp -r -n ./temp/* ./templates/\n",
    "!rm -rf ./temp"
   ]
  }
 ],
 "metadata": {
  "kernelspec": {
   "display_name": "Python 3",
   "language": "python",
   "name": "python3"
  },
  "language_info": {
   "codemirror_mode": {
    "name": "ipython",
    "version": 2
   },
   "file_extension": ".py",
   "mimetype": "text/x-python",
   "name": "python",
   "nbconvert_exporter": "python",
   "pygments_lexer": "ipython2",
   "version": "2.7.6"
  }
 },
 "nbformat": 4,
 "nbformat_minor": 0
}
